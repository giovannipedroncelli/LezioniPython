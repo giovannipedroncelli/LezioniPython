{
 "cells": [
  {
   "cell_type": "markdown",
   "metadata": {},
   "source": [
    "# Programmare in Python - 01\n",
    "\n",
    "## Primi concetti da ricordare:\n",
    "\n",
    "1.   Python è case sensitive.\n",
    "2.   Gli spazi sono importanti.\n",
    "3.   I messaggi di errore ti fanno imparare.\n",
    "\n",
    "## Output in Python\n",
    "`print()`- funzione che mostra i valori passati in input come testo sullo schermo\n",
    "\n",
    "## Operatori aritmetici in Python\n",
    "\n",
    "`+` Addizione\n",
    "\n",
    "`-` Sottrazione\n",
    "\n",
    "`*` Moltiplicazione\n",
    "\n",
    "`/` Divisione\n",
    "\n",
    "`%` Modulo (il resto della divisione intera tra due numeri)\n",
    "\n",
    "`**` Elevamento a potenza (in altri linguaggi di programmazione si usa il simbolo ^ ma **NON in Python**)\n",
    "\n",
    "`//` Divisione intera (divisione e arrotondamento all'intero più vicino)\n",
    "\n",
    "Python mantiene il solito ordine delle operazioni matematiche: \n",
    "\n",
    "potenze --> moltiplicazioni, divisioni, modulo, divisioni intere  --> addizioni, sottrazioni\n",
    "\n",
    "(se non ci sono parentesi)\n",
    "\n",
    "### Esercizi"
   ]
  },
  {
   "cell_type": "code",
   "execution_count": null,
   "metadata": {},
   "outputs": [],
   "source": [
    "# La mia bolletta della luce per gli ultimi tre mesi è stata di €23, €32 e €64.\n",
    "# Qual è la bolletta media mensile degli ultimi tre mesi?\n",
    "# Scrivi un'espressione per calcolare la media e usa print() per stampare il risultato sullo schermo."
   ]
  },
  {
   "cell_type": "code",
   "execution_count": null,
   "metadata": {},
   "outputs": [],
   "source": [
    "# Due parti di un pavimento necessitano di essere piastrellate. \n",
    "# La prima parte ha altezza 9 piastrelle e larghezza 7 piastrelle, la seconda parte ha altezza 5 piastrelle e larghezza 7 piastrelle.\n",
    "# Le piastrelle sono vendute in pacchi da 6.\n",
    "\n",
    "# 1. Di quante piastrelle ho bisogno? Usa print() per stampare il risultato.\n"
   ]
  },
  {
   "cell_type": "code",
   "execution_count": null,
   "metadata": {},
   "outputs": [],
   "source": [
    "# 2. Compro 18 pacchi di piastrelle. Quante piastrelle mi avanzano? Usa print() per stampare il risultato.\n"
   ]
  },
  {
   "cell_type": "code",
   "execution_count": null,
   "metadata": {},
   "outputs": [],
   "source": [
    "# 3. Quanti pacchi interi di piastrelle mi avanzano? Usa print() per stampare il risultato.\n"
   ]
  },
  {
   "cell_type": "code",
   "execution_count": null,
   "metadata": {},
   "outputs": [],
   "source": [
    "# 4. Quante piastrelle sfuse (da un pacco già aperto mi avanzano)? Usa print() per stampare il risultato."
   ]
  },
  {
   "cell_type": "markdown",
   "metadata": {},
   "source": [
    "## Variabili\n",
    "\n",
    "Le variabili in Python si dichiarano così:"
   ]
  },
  {
   "cell_type": "code",
   "execution_count": null,
   "metadata": {},
   "outputs": [],
   "source": [
    "popolazione = 74728"
   ]
  },
  {
   "cell_type": "markdown",
   "metadata": {},
   "source": [
    "`popolazione` è una variabile con un valore pari a 74728.\n",
    "\n",
    "Il valore a destra dell'uguale è assegnato alla variabile con il nome a sinistra dell'uguale. L'uguale **NON** è come l'operatore matematico (74728 **NON** ha valore pari a `popolazione`).\n",
    "\n",
    "Una volta che il valore è stato assegnato alla variabile a sinistra, possiamo accedere al valore usando il nome della variabile.\n",
    "\n",
    "In Python (**SOLO IN Python**) i due frammenti di codice sono equivalenti:"
   ]
  },
  {
   "cell_type": "code",
   "execution_count": null,
   "metadata": {},
   "outputs": [],
   "source": [
    "x = 3\n",
    "y = 4\n",
    "z = 5"
   ]
  },
  {
   "cell_type": "code",
   "execution_count": null,
   "metadata": {},
   "outputs": [],
   "source": [
    "x, y, z = 3, 4, 5"
   ]
  },
  {
   "cell_type": "markdown",
   "metadata": {},
   "source": [
    "perché Python supporta l'assegnazione multipla.\n",
    "\n",
    "Regole per scrivere nomi di variabili in Python:\n",
    "\n",
    "1. Il nome deve contenere solo lettere, cifre e underscore\n",
    "2. Il nome non può contenere spazi\n",
    "3. Il nome deve iniziare con una lettera o con un underscore\n",
    "4. Non usare parole riservate (l'elenco delle parole riservate è nell'immagine seguente)\n",
    "5. Il nome della variabile deve descrivere ciò che la variabile rappresenta e contiene\n",
    "\n",
    "![Lista parole riservate in Python](https://video.udacity-data.com/topher/2018/January/5a71131d_screen-shot-2018-01-30-at-4.39.42-pm/screen-shot-2018-01-30-at-4.39.42-pm.png)\n",
    "\n",
    "In Python si preferisce chiamare le variabili con lettere tutte minuscole e underscore per separare le parole.\n",
    "\n",
    "**SÌ**"
   ]
  },
  {
   "cell_type": "code",
   "execution_count": null,
   "metadata": {},
   "outputs": [],
   "source": [
    "altitudine_citta = 58\n",
    "latitudine_citta = 40\n",
    "longitudine_citta = 105"
   ]
  },
  {
   "cell_type": "markdown",
   "metadata": {},
   "source": [
    "**NO**\n"
   ]
  },
  {
   "cell_type": "code",
   "execution_count": null,
   "metadata": {},
   "outputs": [],
   "source": [
    "altitudine citta = 58\n",
    "latitudine_città = 40\n",
    "miaLongitudine = 105"
   ]
  },
  {
   "cell_type": "markdown",
   "metadata": {},
   "source": [
    "L'ultimo nome di variabile non è sbagliato ma in Python si preferisce usare lo standard snake_case e non lo standard camelCase.\n",
    "\n",
    "In Python si possono anche abbreviare le operazioni aritmetiche e di assegnamento effettuate insieme.\n",
    "\n",
    "Per esempio, le seguenti coppie di codice sono equivalenti:"
   ]
  },
  {
   "cell_type": "code",
   "execution_count": null,
   "metadata": {},
   "outputs": [],
   "source": [
    "x = x + 2 # versione completa\n",
    "x += 2 # versione abbreviata"
   ]
  },
  {
   "cell_type": "code",
   "execution_count": null,
   "metadata": {},
   "outputs": [],
   "source": [
    "x = x * 2 # versione completa\n",
    "x *= 2 # versione abbreviata"
   ]
  },
  {
   "cell_type": "markdown",
   "metadata": {},
   "source": [
    "In Python NON si può usare l'operatore `++` quindi non si può scrivere `x++`. L'istruzione `x = x + 1` si abbrevia con `x += 1`\n",
    "\n",
    "## Tipi di variabili numeriche\n",
    "Due tipi possono essere usati per le variabili numeriche in Python\n",
    "\n",
    "- int - valori interi\n",
    "\n",
    "- float - numeri con la virgola\n",
    "\n",
    "Puoi forzare il tipo di dato numerico con la sintassi seguente:"
   ]
  },
  {
   "cell_type": "code",
   "execution_count": null,
   "metadata": {},
   "outputs": [],
   "source": [
    "x = int(4.7) # x diventa un intero pari a 4\n",
    "y = float(4) # y diventa il numero con la virgola 4.0"
   ]
  },
  {
   "cell_type": "markdown",
   "metadata": {},
   "source": [
    "Si può controllare il tipo di una variabile con la funzione `type()`:"
   ]
  },
  {
   "cell_type": "code",
   "execution_count": null,
   "metadata": {},
   "outputs": [],
   "source": [
    "print(type(x))\n",
    "print(type(y))"
   ]
  },
  {
   "cell_type": "code",
   "execution_count": null,
   "metadata": {},
   "outputs": [],
   "source": [
    "print(.1 + .1 + .1)"
   ]
  },
  {
   "cell_type": "markdown",
   "metadata": {},
   "source": [
    "A causa dell'approssimazione, 0.1 è in realtà un po' più grande di 0.1. Quindi, quando facciamo delle operazioni, possiamo vedere la differenza tra la risposta matematicamente corretta e quella proposta da Python.\n",
    "\n",
    "### Esercizi"
   ]
  },
  {
   "cell_type": "code",
   "execution_count": null,
   "metadata": {},
   "outputs": [],
   "source": [
    "'''\n",
    "Completa l'esercizio scrivendo l'operazione richiesta nel commento.\n",
    "Le quantità iniziali sono scritte seguendo la notazione scientifica: \n",
    "4.445e8 è uguale a 4.445 * 10 ** 8 che a sua volta equivale a 444500000.0\n",
    "5e6 è uguale a 5 * 10 ** 6 che a sua volta equivale a 5000000\n",
    "'''\n",
    "\n",
    "# Volume di un serbatoio di acqua\n",
    "volume_serbatoio = 4.445e8\n",
    "# Quantità di pioggia\n",
    "pioggia = 5e6"
   ]
  },
  {
   "cell_type": "code",
   "execution_count": null,
   "metadata": {},
   "outputs": [],
   "source": [
    "# decrementa la variabile pioggia del 10%\n"
   ]
  },
  {
   "cell_type": "code",
   "execution_count": null,
   "metadata": {},
   "outputs": [],
   "source": [
    "# aggiungi il valore della variabile pioggia alla variabile volume_serbatoio\n"
   ]
  },
  {
   "cell_type": "code",
   "execution_count": null,
   "metadata": {},
   "outputs": [],
   "source": [
    "# incrementa il valore della variabile volume_serbatoio del 5%\n"
   ]
  },
  {
   "cell_type": "code",
   "execution_count": null,
   "metadata": {},
   "outputs": [],
   "source": [
    "# decrementa volume_serbatoio del 5%\n"
   ]
  },
  {
   "cell_type": "code",
   "execution_count": null,
   "metadata": {},
   "outputs": [],
   "source": [
    "# sottrai 2.5e5 a volume_serbatoio\n"
   ]
  },
  {
   "cell_type": "code",
   "execution_count": null,
   "metadata": {},
   "outputs": [],
   "source": [
    "# stampa il valore di volume_serbatoio\n"
   ]
  },
  {
   "cell_type": "markdown",
   "metadata": {},
   "source": [
    "## Booleani, Operatori di confronto e Operatori logici\n",
    "Il tipo di dato `bool` può contenere o il valore `True` o il valore `False` che possono anche essere codificati rispettivamente come 1 e 0.\n",
    "\n",
    "Ci sono 6 **operatori di confronto** che producono un valore booleano:\n",
    "\n",
    "`>` maggiore\n",
    "\n",
    "`<` minore\n",
    "\n",
    "`>=` maggiore o uguale\n",
    "\n",
    "`<=` minore o uguale\n",
    "\n",
    "`==` uguale\n",
    "\n",
    "`!=` diverso"
   ]
  },
  {
   "cell_type": "code",
   "execution_count": null,
   "metadata": {},
   "outputs": [],
   "source": [
    "# Minore di\n",
    "5 < 3 # uguale a ???"
   ]
  },
  {
   "cell_type": "code",
   "execution_count": null,
   "metadata": {},
   "outputs": [],
   "source": [
    "# Maggiore di\n",
    "5 > 3 # uguale a ???"
   ]
  },
  {
   "cell_type": "code",
   "execution_count": null,
   "metadata": {},
   "outputs": [],
   "source": [
    "# Minore o uguale di\n",
    "3 <= 3 # uguale a ???"
   ]
  },
  {
   "cell_type": "code",
   "execution_count": null,
   "metadata": {},
   "outputs": [],
   "source": [
    "# Maggiore o uguale di\n",
    "3 >= 5 # uguale a ???"
   ]
  },
  {
   "cell_type": "code",
   "execution_count": null,
   "metadata": {},
   "outputs": [],
   "source": [
    "# Uguale a\n",
    "3 == 5 # uguale a ???"
   ]
  },
  {
   "cell_type": "code",
   "execution_count": null,
   "metadata": {},
   "outputs": [],
   "source": [
    "# Diverso da\n",
    "3 != 5 # uguale a ???"
   ]
  },
  {
   "cell_type": "markdown",
   "metadata": {},
   "source": [
    "Ci sono tre **operatori logici**:\n",
    "\n",
    "`and` - True solo se tutte le condizioni sono True"
   ]
  },
  {
   "cell_type": "code",
   "execution_count": null,
   "metadata": {},
   "outputs": [],
   "source": [
    "5 < 3 and 5 == 5 # Questa condizione è uguale a ???"
   ]
  },
  {
   "cell_type": "markdown",
   "metadata": {},
   "source": [
    "`or` - False solo se tutte le condizioni sono False"
   ]
  },
  {
   "cell_type": "code",
   "execution_count": null,
   "metadata": {},
   "outputs": [],
   "source": [
    "5 < 3 or 5 == 5 # Questa condizione è uguale a ???"
   ]
  },
  {
   "cell_type": "markdown",
   "metadata": {},
   "source": [
    "`not` - Inverte il valore booleano"
   ]
  },
  {
   "cell_type": "code",
   "execution_count": null,
   "metadata": {},
   "outputs": [],
   "source": [
    "not 5 < 3 # Questa condizione è uguale a ???"
   ]
  }
 ],
 "metadata": {
  "kernelspec": {
   "display_name": "Python 3",
   "language": "python",
   "name": "python3"
  },
  "language_info": {
   "name": "python",
   "version": "3.11.4"
  }
 },
 "nbformat": 4,
 "nbformat_minor": 2
}
