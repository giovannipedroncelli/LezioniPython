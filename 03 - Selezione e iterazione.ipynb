{
 "cells": [
  {
   "cell_type": "markdown",
   "metadata": {},
   "source": [
    "## Struttura di selezione: il costrutto if\n",
    "\n",
    "Un'istruzione if esegue del codice in base al valore di una condizione: se la condizione ha valore True esegue il blocco di codice indentato altrimenti il blocco viene saltato."
   ]
  },
  {
   "cell_type": "code",
   "execution_count": null,
   "metadata": {},
   "outputs": [],
   "source": [
    "if credito_telefonico < 5:\n",
    "    credito_teletonico += 10\n",
    "    conto_bancario -= 10"
   ]
  },
  {
   "cell_type": "markdown",
   "metadata": {},
   "source": [
    "Un'istruzione if inizia con la parola chiave if seguita dalla condizione che deve essere controllata, in questo caso credito_telefonico < 5 e poi i due punti. \n",
    "\n",
    "**La condizione deve essere un'espressione booleana con valore True oppure False**.\n",
    "\n",
    "Dopo questa riga c'è un blocco di codice indentato che verrà eseguito solo se la condizione ha valore True. Qui abbiamo due linee: la prima incrementa la variabile credito_telefonico, la seconda decrementa la variabile conto_bancario. Le due linee saranno eseguite solo se la condizione è True (cioè se la variabile credito_telefonico ha un valore inferiore a 5). Se la condizione è False, il blocco di codice sarà semplicemente saltato.\n",
    "\n",
    "**Tutte le volte che ci sono i due punti, è obbligatorio indentare il blocco successivo di codice**\n",
    "\n",
    "## If, Elif, Else\n",
    "Oltre ad if, esistono altre due dichiarazioni opzionali\n",
    "\n",
    "* if: Un'istruzione if deve sempre iniziare con una dichiarazione if che contiene la prima condizione da controllare. Se la condizione ha valore True, Python esegue il relativo blocco di codice indentato altrimenti salta questo blocco e prosegue con il codice seguente.\n",
    "\n",
    "* elif: elif è l'abbreviazione di \"else if.\" Una dichiarazione elif clause è usata per controllare una condizione aggiuntiva se le condizioni nelle dichiarazioni precedenti erano uguali a False. Ci possono essere blocchi elif multipli per gestire situazioni differenti.\n",
    "\n",
    "* else: Alla fine può esserci una dichiarazione else che, se c'è, va inserita alla fine. Questa dichiarazione NON ha una condizione associata. Il codice nel blocco else viene eseguito se tutte le condizioni precedenti erano False.\n",
    "\n"
   ]
  },
  {
   "cell_type": "code",
   "execution_count": null,
   "metadata": {},
   "outputs": [],
   "source": [
    "if stagione == 'primavera':\n",
    "\tprint('temperatura tiepida')\n",
    "elif stagione == 'estate':\n",
    "\tprint('temperatura calda')\n",
    "elif stagione == 'autunno':\n",
    "\tprint('temperatura fredda')\n",
    "elif stagione == 'inverno':\n",
    "\tprint('temperatura freddissima')\n",
    "else:\n",
    "\tprint('stagione non riconosciuta')"
   ]
  },
  {
   "cell_type": "markdown",
   "metadata": {},
   "source": [
    "**In Python NON esiste la struttura switch**\n",
    "### Esercizi"
   ]
  },
  {
   "cell_type": "code",
   "execution_count": null,
   "metadata": {},
   "outputs": [],
   "source": [
    "'''\n",
    "Scrivere un'istruzione if che stampa il premio vinto dall'utente in base al valore della variabile intera punti.\n",
    "\n",
    "Punti\t\t\tPremio\n",
    "1-50\t\t\tconiglio di legno\n",
    "51-150\t\tnessun premio\n",
    "151-180\t\tpinguino\n",
    "181-200\t\tcavallo\n",
    "\n",
    "Il risultato deve essere una stringa contenente il messaggio: \"Congratulazioni! Hai vinto un [nome_premio]\". Se non c'è nessun premio, il messaggio dovrebbe essere \"Non hai vinto nulla\".\n",
    "'''"
   ]
  },
  {
   "cell_type": "code",
   "execution_count": null,
   "metadata": {},
   "outputs": [],
   "source": [
    "'''\n",
    "Codifica un gioco in cui l'utente deve indovinare un numero. \n",
    "Chiedi all'utente il numero e memorizzalo nella variabile risposta.\n",
    "Il numero da indovinare va memorizzato nella variabile numero (NON VA CHIESTO ALL'UTENTE).\n",
    "Dopo aver confrontato i valori delle due variabili informa l'utente se  il numero inserito è maggiore o minore del numero da indovinare.\n",
    "'''"
   ]
  },
  {
   "cell_type": "code",
   "execution_count": null,
   "metadata": {},
   "outputs": [],
   "source": [
    "'''\n",
    "In base alla nazione di provenienza di un individuo, dobbiamo applicare la percentuale di tassa appropriata.\n",
    "Gli stati riconosciuti dal programma sono IT, FR e GER con percentuali di tassazione pari rispettivamente a 7.5%, 9.5%, and 8.9%. \n",
    "Scrivi il codice per chiedere in input la quantità a cui applicare la tassa e stampare il totale comprensivo di tassa.\n",
    "'''"
   ]
  },
  {
   "cell_type": "markdown",
   "metadata": {},
   "source": [
    "## Strutture iterative in Python\n",
    "### Ciclo for\n",
    "\n",
    "Python ha due tipi di cicli - cicli for e cicli while. Il ciclo for si usa per iterare cioè svolgere ripetutamente dei compiti quando sappiamo quante volte dobbiamo svolgere questi compiti (iterazione definita)."
   ]
  },
  {
   "cell_type": "code",
   "execution_count": null,
   "metadata": {},
   "outputs": [],
   "source": [
    "for i in range(3):\n",
    "\tprint(\"Hello!\")"
   ]
  },
  {
   "cell_type": "markdown",
   "metadata": {},
   "source": [
    "### Struttura di un ciclo for\n",
    "La prima riga inizia con la parola chiave for che segnala che sta iniziando un ciclo for.\n",
    "Subito dopo è presente la variabile contatore che, in questo esempio, si chiama i.\n",
    "\n",
    "range() è una funzione di Python che serve per creare una sequenza iterabile di interi. La variabile contatore i assumerà, ad ogni iterazione, uno dei valori inclusi nel range.\n",
    "\n",
    "La sintassi della funzione range() è:\n",
    "\n",
    "`range(start=0, stop, step=1)`\n",
    "\n",
    "La funzione range() ha bisogno di tre valori, di cui i primi due sono opzionali.\n",
    "\n",
    "Il valore 'start' è il primo numero della sequenza. Se non viene specificato, il suo valore di default è pari a 0.\n",
    "Il valore 'stop' è l'ultimo numero della sequenza più 1. Va specificato obbligatoriamente.\n",
    "Il valore 'step' è la distanza tra ciascun valore della sequenza. Se non viene specificato, il suo valore di default è pari a 0.\n",
    "\n",
    "Nell'esempio sopra, quindi, il range di valori del contatore i è 0, 1, 2 perché 'start' non viene specificato (e quindi è pari a 0), 'stop' è pari a 3 (cioè l'ultimo numero della sequenza 2 + 1) e 'step' non è specificato quindi è pari a 1.\n",
    "\n",
    "### Regole per l'uso di range()\n",
    "- Se specifichi un valore all'interno delle parentesi tonde di range(), questo sarà inteso come il valore 'stop' (come nell'esempio qui su)\n",
    "- Se specifichi due valori all'interno delle parentesi tonde di range(), questi saranno usati come valori 'start' e 'stop'\n",
    "\t- esempio: range(2, 6) produce la sequenza 2, 3, 4, 5\n",
    "- Se specifichi tre valori all'interno delle parentesi tonde di range(), questi saranno in ordine 'start', 'stop' e 'step'\n",
    "\t- esempio: range(1, 10, 2) produce la sequenza 1, 3, 5, 7, 9\n",
    "\n",
    "La prima riga termina con i due punti. Sotto la prima riga si inserisce il blocco indentato di operazioni che vanno eseguite ogni volta che il ciclo viene ripetuto.\n",
    "Dopo ogni esecuzione del blocco indentato, il programma ritorna alla prima riga del ciclo for per controllare se il contatore i ha assunto l'ultimo valore della sequenza oppure no. Se i ha assunto l'ultimo valore della sequenza allora si passa alle istruzioni successive, altrimenti si ripetono le istruzioni del blocco indentato.\n",
    "\n",
    "## Ciclo while\n",
    "Il ciclo while si usa per le iterazioni indefinite, quando non sappiamo quante volte dovremo eseguire ripetutamente le istruzioni del blocco indentato. Le istruzioni del blocco indentato saranno eseguite fino a quando è vera una determinata condizione."
   ]
  },
  {
   "cell_type": "code",
   "execution_count": null,
   "metadata": {},
   "outputs": [],
   "source": [
    "somma = 0\n",
    "\n",
    "while somma < 100:\n",
    "\tsomma += int(input(\"Inserisci un intero, mi fermo quando la somma è almeno pari a 100: \"))\n",
    "\tprint(\"Valore della somma: {}\".format(somma))\n",
    "\t\n",
    "print(\"Valore finale della somma: {}\".format(somma))"
   ]
  },
  {
   "cell_type": "markdown",
   "metadata": {},
   "source": [
    "## Struttura di un ciclo while\n",
    "La prima riga inizia con la parola chiave while che segnala che sta iniziando un ciclo while. Subito dopo c'è una condizione che va controllata: in questo caso è somma < 100. La prima istruzione termina con i due punti.\n",
    "\n",
    "Subito dopo c'è il corpo dell'iterazione cioè il blocco di istruzioni indentato che sono eseguite quando la condizione ha valore True. Al termine di ogni esecuzione del blocco, si ritorna alla prima riga del ciclo e si controlla la condizione: se è pari a True si esegue nuovamente il blocco indentato altrimenti si passa alle istruzioni immediatamente successive (che non saranno indentate).\n",
    "\n",
    "Attenzione a modificare all'interno del blocco indentato la variabile contenuta nella condizione per evitare un ciclo infinito.\n",
    "\n",
    "## Break, Continue\n",
    "\n",
    "Talvolta abbiamo bisogno di maggiore controllo sul ciclo e per questo motivo si usano le parole chiave break e continue:\n",
    "\n",
    "- **break** termina il ciclo\n",
    "- **continue** salta un'interazione del ciclo"
   ]
  },
  {
   "cell_type": "code",
   "execution_count": null,
   "metadata": {},
   "outputs": [],
   "source": [
    "somma = 0\n",
    "\n",
    "while somma < 100:\n",
    "\tvalore = int(input(\"Inserisci un intero, mi fermo quando la somma è almeno pari a 100 o quando inserisci 0: \"))\n",
    "\tif valore == 0:\n",
    "\t\tprint(\"Esco dal programma\")\n",
    "\t\tbreak\n",
    "\tif valore < 0:\n",
    "\t\tprint(\"Inserire solo valori maggiori di zero, 0 per terminare\")\n",
    "\t\tcontinue\n",
    "\tsomma += valore\n",
    "\tprint(\"Valore della somma: {}\".format(somma))\n",
    "\n",
    "print(\"Valore finale della somma: {}\".format(somma))"
   ]
  },
  {
   "cell_type": "markdown",
   "metadata": {},
   "source": [
    "### Esercizi"
   ]
  },
  {
   "cell_type": "code",
   "execution_count": null,
   "metadata": {},
   "outputs": [],
   "source": [
    "'''\n",
    "Scrivi un programma che chiede in input un intero all'utente e poi stampa tutti i multipli di 5 inferiori a quel numero\n",
    "'''"
   ]
  },
  {
   "cell_type": "code",
   "execution_count": null,
   "metadata": {},
   "outputs": [],
   "source": [
    "'''\n",
    "Scrivi un programma che chiede in input un intero all'utente e poi stampa il fattoriale di quel numero.\n",
    "Il fattoriale di un numero intero si calcola come il prodotto di tutti gli interi dal numero stesso fino a 1: il fattoriale di 5 = 5 * 4 * 3 * 2 * 1 (si indica matematicamente come 5!)\n",
    "Realizza il programma in due differenti versioni, con il ciclo for e con il ciclo while\n",
    "'''"
   ]
  },
  {
   "cell_type": "code",
   "execution_count": null,
   "metadata": {},
   "outputs": [],
   "source": [
    "'''\n",
    "Realizza un contatore che conta da un numero di partenza (start) per un determinato numero di volte (numero) con un certo step (step) e stampa in output il numero di arrivo (arrivo). Chiedi tutti e tre i valori (start, numero e step) in input.\n",
    "Esempio:\n",
    "start: 5\n",
    "numero: 3\n",
    "step: 3\n",
    "arrivo: 11\n",
    "'''"
   ]
  },
  {
   "cell_type": "code",
   "execution_count": null,
   "metadata": {},
   "outputs": [],
   "source": [
    "'''\n",
    "Realizza un contatore che conta da un numero di partenza (start) per un determinato numero di volte (numero) fino a un certo numero di arrivo (arrivo) e stampa in output il numero di conteggi effettuati (numero). Chiedi tutti e tre i valori (start, step e arrivo) in input.\n",
    "Esempio:\n",
    "start: 5\n",
    "step: 2\n",
    "arrivo: 15\n",
    "numero: 6\n",
    "'''"
   ]
  },
  {
   "cell_type": "code",
   "execution_count": null,
   "metadata": {},
   "outputs": [],
   "source": [
    "'''\n",
    "Scrivi un programma che chiede in input un numero intero e stampa in output il quadrato perfetto più vicino a quel numero ma minore di quel numero. Esempio: se l'input è pari a 40, in output sarà stampato 36.\n",
    "'''"
   ]
  },
  {
   "cell_type": "code",
   "execution_count": null,
   "metadata": {},
   "outputs": [],
   "source": [
    "'''\n",
    "Scrivi un programma che chiede in input un numero intero e stampa se il numero è primo oppure no.\n",
    "'''"
   ]
  },
  {
   "cell_type": "code",
   "execution_count": null,
   "metadata": {},
   "outputs": [],
   "source": [
    "'''\n",
    "Scrivere un programma in Python che legge due numeri interi e calcola il prodotto tra i due numeri usando solo l'operatore somma.\n",
    "'''"
   ]
  },
  {
   "cell_type": "code",
   "execution_count": null,
   "metadata": {},
   "outputs": [],
   "source": [
    "'''\n",
    "Scrivi un programma che legge una sequenza di numeri e calcola la loro media.\n",
    "Se il numero è interno all'intervallo [10,50] allora contribuisce al valore della media.\n",
    "Se viene inserito 0, il programma stampa la media dei numeri inseriti e termina.\n",
    "'''"
   ]
  }
 ],
 "metadata": {
  "kernelspec": {
   "display_name": "Python 3 (ipykernel)",
   "language": "python",
   "name": "python3"
  },
  "language_info": {
   "codemirror_mode": {
    "name": "ipython",
    "version": 3
   },
   "file_extension": ".py",
   "mimetype": "text/x-python",
   "name": "python",
   "nbconvert_exporter": "python",
   "pygments_lexer": "ipython3",
   "version": "3.11.2"
  }
 },
 "nbformat": 4,
 "nbformat_minor": 4
}
