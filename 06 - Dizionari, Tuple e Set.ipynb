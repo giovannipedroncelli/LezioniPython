{
 "cells": [
  {
   "cell_type": "markdown",
   "id": "2b6c7437-df31-4fa5-84ae-da98ebbaa682",
   "metadata": {},
   "source": [
    "# Altre strutture dati\n",
    "## Tuple\n",
    "Una tupla è una sequenza ordinata e non modificabile di elementi. Praticamente è come una lista di cui non possiamo modificare gli elementi (né aggiungere né rimuovere né modificare gli elementi). Possono essere usate per memorizzare informazioni correlate tra loro come nell'esempio seguente:"
   ]
  },
  {
   "cell_type": "code",
   "execution_count": null,
   "id": "2e2e64b4-9eb1-4b40-811d-2bfb12617b6a",
   "metadata": {},
   "outputs": [],
   "source": [
    "posizione = (13.4125, 103.866667)\n",
    "print(\"Latitudine:\", posizione[0])\n",
    "print(\"Longitudine:\", posizione[1])"
   ]
  },
  {
   "cell_type": "markdown",
   "id": "8926506d-05a6-48bd-8f08-a562b4cc0ffa",
   "metadata": {},
   "source": [
    "Abbiamo già incontrato le tuple nel caso di funzioni che restituiscono più valori."
   ]
  },
  {
   "cell_type": "code",
   "execution_count": null,
   "id": "1903854b-b9e3-4023-b1d5-9e96a6691dfc",
   "metadata": {},
   "outputs": [],
   "source": [
    "def rettangolo(lato1, lato2):\n",
    "\treturn lato1 * lato2, (lato1 + lato2) * 2\n",
    "\n",
    "# chiamata 1\n",
    "risultato = rettangolo(4,5)\n",
    "\n",
    "# chiamata 2\n",
    "area, perimetro = rettangolo(4,5)"
   ]
  },
  {
   "cell_type": "markdown",
   "id": "23a7ed2d-af0c-465a-9e7f-3cf46ad4742c",
   "metadata": {},
   "source": [
    "In \"chiamata 1\" la variabile chiamata `risultato` è proprio una tupla che contiene due valori.\n",
    "\n",
    "In \"chiamata 2\" abbiamo fatto un'operazione che si chiama **unpacking della tupla** cioè abbiamo estratto dalla tupla due valori (perché la tupla è di lunghezza pari a due cioè contiene due elementi).\n",
    "## Dizionari\n",
    "Un dizionario è usato per memorizzare coppie chiave, valore. Per esempio, questo dizionario memorizza elementi chimici e il loro numero atomico."
   ]
  },
  {
   "cell_type": "code",
   "execution_count": null,
   "id": "ff4fbef5-ddb0-47ea-b7aa-17a0357c50af",
   "metadata": {},
   "outputs": [],
   "source": [
    "elementi = {\"idrogeno\": 1, \"elio\": 2, \"carbonio\": 6}"
   ]
  },
  {
   "cell_type": "markdown",
   "id": "7afd5729-55e9-4d8d-a00a-8db30fe5adbd",
   "metadata": {},
   "source": [
    "La chiave e il valore sono separati dai due punti, le varie coppie sono separate da virgola come nella struttura generale seguente:\n",
    "\n",
    "```python\n",
    "{chiave1: valore1, chiave2: valore2, chiave3: valore3, chiave4: valore4, ...}\n",
    "```"
   ]
  },
  {
   "cell_type": "code",
   "execution_count": null,
   "id": "b1ac91d9-73f0-4c22-bb32-ff50dc833c93",
   "metadata": {},
   "outputs": [],
   "source": [
    "dizionario_random = {\"abc\": 1, 5: \"ciao\"}"
   ]
  },
  {
   "cell_type": "markdown",
   "id": "910d6931-2d48-47a9-b755-f145f109c1df",
   "metadata": {},
   "source": [
    "Possiamo accedere ai valori di un dizionario usando le parentesi quadre attorno al nome della chiave come:"
   ]
  },
  {
   "cell_type": "code",
   "execution_count": null,
   "id": "554d886b-74a9-42fc-b698-0e6c06737e96",
   "metadata": {},
   "outputs": [],
   "source": [
    "nome_dizionario[chiave]"
   ]
  },
  {
   "cell_type": "markdown",
   "id": "a7fe9220-5773-4eae-8d1d-0a918058c2d9",
   "metadata": {},
   "source": [
    "Per esempio il valore di `dizionario_random[\"abc\"]` è 1 e il valore di `dizionario_random[5]` è \"ciao\".\n",
    "\n",
    "Altro esempio:"
   ]
  },
  {
   "cell_type": "code",
   "execution_count": null,
   "id": "c01330a8-9a79-497c-a7d5-4bde93590b16",
   "metadata": {},
   "outputs": [],
   "source": [
    "print(elementi[\"elio\"])"
   ]
  },
  {
   "cell_type": "markdown",
   "id": "27adb171-8c23-4b88-8f43-8ea690e2150d",
   "metadata": {},
   "source": [
    "Sarà stampato il valore 2 sullo schermo.\n",
    "\n",
    "Possiamo inserire un nuovo elemento nel dizionario in questo modo:"
   ]
  },
  {
   "cell_type": "code",
   "execution_count": null,
   "id": "2e131abf-ce81-4262-ac23-f4e80c74ad01",
   "metadata": {},
   "outputs": [],
   "source": [
    "elementi[\"litio\"] = 3"
   ]
  },
  {
   "cell_type": "markdown",
   "id": "8aa0dfa8-69b3-4841-8654-a3d8a80f8bca",
   "metadata": {},
   "source": [
    "Se eseguiamo `print(elementi)`, l'output sarà:\n",
    "```python\n",
    "{'idrogeno': 1, 'carbonio': 6, 'elio': 2, 'litio': 3}\n",
    "```\n",
    "Attenzione a cercare chiavi non presenti nel dizionario: se proviamo a scrivere `elementi['dilitio']` avremo un \"KeyError\".\n",
    "\n",
    "Possiamo controllare se una chiave è presente in un dizionario usando l'operatore `in`. \n",
    "\n",
    "Esempio:"
   ]
  },
  {
   "cell_type": "code",
   "execution_count": null,
   "id": "ac3877b7-f3f1-48bd-b03c-1b7536493b43",
   "metadata": {},
   "outputs": [],
   "source": [
    "print(\"carbonio\" in elementi)\n",
    "print(\"dilitio\" in elementi)"
   ]
  },
  {
   "cell_type": "markdown",
   "id": "459b33e8-aad6-4137-b6a2-462be20bb4ca",
   "metadata": {},
   "source": [
    "### Metodi per dizionari\n",
    "- Metodo .get(): ci permette di accedere a una chiave del dizionario in modo sicuro. Accetta un parametro obbligatorio (la chiave da cercare) e un parametro opzionale cioè un messaggio da mostrare se la chiave cercata non è presente nel dizionario. Se la chiave è presente nel dizionario restituisce il valore associato a quella chiave altrimenti restituisce il messaggio (il secondo parametro passato al metodo)."
   ]
  },
  {
   "cell_type": "code",
   "execution_count": null,
   "id": "63212a45-b59d-42a5-bc61-b4f7d367fdf0",
   "metadata": {},
   "outputs": [],
   "source": [
    "elementi.get(\"dilitio\",\"Elemento non presente\")\n",
    "elementi.get(\"carbonio\",\"Elemento non presente\")"
   ]
  },
  {
   "cell_type": "markdown",
   "id": "0c8d6735-47a5-441b-b435-3b3bc6a48be9",
   "metadata": {},
   "source": [
    "- Metodo .pop(): ci permette di eliminare una coppia chiave:valore in modo sicuro. Accetta un parametro obbligatorio (la chiave da cercare) e un parametro opzionale cioè un messaggio da mostrare se la chiave cercata non è presente nel dizionario. Se la chiave è presente nel dizionario viene eliminata la corrispondente chiave:valore e viene restituito il corrispondente valore altrimenti viene restituito il messaggio (il secondo parametro passato al metodo)."
   ]
  },
  {
   "cell_type": "code",
   "execution_count": null,
   "id": "83c1b293-b914-4c8c-9716-a604880c8b9e",
   "metadata": {},
   "outputs": [],
   "source": [
    "elementi.pop(\"dilitio\",\"Elemento non presente\")\n",
    "elementi.pop(\"carbonio\",\"Elemento non presente\")"
   ]
  },
  {
   "cell_type": "markdown",
   "id": "2d51b2ef-c461-46dc-82f3-61b6c7107ca9",
   "metadata": {},
   "source": [
    "- Metodo .update(): permette di agggiungere al dizionario altre coppie chiave:valore passate come parametro. **Come parametro va passato un dizionario**."
   ]
  },
  {
   "cell_type": "code",
   "execution_count": null,
   "id": "43ab25dc-59cb-468b-acf3-a8313cf01257",
   "metadata": {},
   "outputs": [],
   "source": [
    "elementi.update({\"azoto\": 7, \"ossigeno\": 8})"
   ]
  },
  {
   "cell_type": "markdown",
   "id": "5feae302-2182-40ca-bb98-f568c099b579",
   "metadata": {},
   "source": [
    "## Iterare sui dizionari\n",
    "\n",
    "Possiamo iterare sulle chiavi del dizionario usando il metodo `.keys()`:"
   ]
  },
  {
   "cell_type": "code",
   "execution_count": null,
   "id": "0b25a6a4-ebae-4eea-8763-55b624b05eec",
   "metadata": {},
   "outputs": [],
   "source": [
    "for elemento in elementi.keys():\n",
    "\tprint(elemento)"
   ]
  },
  {
   "cell_type": "markdown",
   "id": "194a3754-d4db-4a97-a647-2e534d8c8ff7",
   "metadata": {},
   "source": [
    "L'output sarà l'elenco di tutte le chiavi del dizionario.\n",
    "\n",
    "Possiamo iterare sui valori del dizionario usando il metodo `.values()`:"
   ]
  },
  {
   "cell_type": "code",
   "execution_count": null,
   "id": "b7a09f32-cb7c-45ab-9032-250a2b97c39a",
   "metadata": {},
   "outputs": [],
   "source": [
    "for numero in elementi.values():\n",
    "\tprint(numero)"
   ]
  },
  {
   "cell_type": "markdown",
   "id": "6e2513d1-3178-447b-a08e-5486af9208b4",
   "metadata": {},
   "source": [
    "L'output sarà l'elenco dei numeri atomici presenti nel dizionario (cioè i valori delle coppie chiave:valore).\n",
    "\n",
    "Possiamo iterare su chiavi e valori insieme usando il metodo `.items()`:"
   ]
  },
  {
   "cell_type": "code",
   "execution_count": null,
   "id": "37273dcd-cd65-4899-90da-6df100d115e0",
   "metadata": {},
   "outputs": [],
   "source": [
    "for chiave,valore in elementi.items():\n",
    "\tprint(\"L'elemento {} ha numero atomico pari a {}.\".format(chiave,valore))"
   ]
  },
  {
   "cell_type": "markdown",
   "id": "1444623c-e8e6-4976-adc7-054ab8ecfb7f",
   "metadata": {},
   "source": [
    "### Esercizi"
   ]
  },
  {
   "cell_type": "code",
   "execution_count": null,
   "id": "9e2cfd2c-8512-4ccc-822f-fb16ac4c5a5f",
   "metadata": {},
   "outputs": [],
   "source": [
    "'''\n",
    "Crea un dizionario a partire da questa tabella che contiene la popolazione in milioni per alcune città:\n",
    "\n",
    "Città \t\tPopolazione\n",
    "Shanghai  \t17.8  \n",
    "Istanbul  \t13.3  \n",
    "Karachi   \t13.0 \n",
    "Mumbai  \t\t12.5  \n",
    "\n",
    "- Aggiungi una coppia chiave:valore per la popolazione di Roma\n",
    "- Aggiungi con una sola istruzione le coppie chiave:valore per la popolazione di 5 città a tua scelta\n",
    "- Stampa in modo sicuro il valore della popolazione di Bari prevedendo un messaggio di errore se la chiave non è presente nel dizionario\n",
    "- Rimuovi in modo sicuro i dati relativi alla città di Karachi prevedendo un messaggio di errore se la chiave non è presente nel dizionario\n",
    "- Stampa per ogni città un messaggio del tipo: \"[città] ha una popolazione pari a [popolazione]\" (fai in modo che la popolazione sia pari al valore reale cioè con il corretto numero di zeri)\n",
    "- Calcola il valore minimo, il valore massimo e la media della popolazione e stampa il nome della città con valore minimo e il relativo valore minimo, il nome della città con valore massimo e il relativo valore massimo e la media all'interno di una stringa.\n",
    "- Riorganizza il codice del punto precedente in modo che sia all'interno di una funzione che accetta come parametro un dizionario e restituisce i valori da calcolare. Effettua una chiamata di esempio della funzione.\n",
    "'''"
   ]
  },
  {
   "cell_type": "markdown",
   "id": "a99043a8-63de-4545-887f-7ddc881dd396",
   "metadata": {},
   "source": [
    "## Set\n",
    "\n",
    "I set sono una struttura dati **non-ordinata**, **immutabile** e **non-indicizzata**. Inoltre, non ci possono essere due valori uguali all'interno di un set.\n",
    "\n",
    "I set si definiscono con le parentesi graffe oppure usando la funzione `set()` su un iterabile (cioè su una lista o su una stringa)."
   ]
  },
  {
   "cell_type": "code",
   "execution_count": null,
   "id": "c79e89d5-f696-44d4-99c4-0b07a5375f9d",
   "metadata": {},
   "outputs": [],
   "source": [
    "x = {42, 'foo', 3.14159, None}\n",
    "\n",
    "x = set([42, 'foo', 3.14159, None])"
   ]
  },
  {
   "cell_type": "markdown",
   "id": "bb60bc03-4970-4d92-bd95-2416df4510b8",
   "metadata": {},
   "source": [
    "I duplicati non sono ammessi."
   ]
  },
  {
   "cell_type": "code",
   "execution_count": null,
   "id": "6a1aed31-156e-4efd-b3e4-ca8fdb2ece16",
   "metadata": {},
   "outputs": [],
   "source": [
    "x = {42, 'foo', 3.14159, 42, None}\n",
    "print(x)"
   ]
  },
  {
   "cell_type": "markdown",
   "id": "983ddc56-607e-420c-aece-c0962fb9c6d5",
   "metadata": {},
   "source": [
    "Si può usare la funzione `len()` che restituisce il numero di elementi contenuti nel set.\n",
    "\n",
    "Non si possono usare gli indici per accedere agli elementi di un set. Un possibile modo per stampare gli elementi uno a uno può essere questo:"
   ]
  },
  {
   "cell_type": "code",
   "execution_count": null,
   "id": "0a040903-b808-40e8-b9d9-97b758a69877",
   "metadata": {},
   "outputs": [],
   "source": [
    "for elemento in x:\n",
    "    print(elemento)"
   ]
  },
  {
   "cell_type": "markdown",
   "id": "02927170-af6d-4b1b-8923-c2c71fdc0b56",
   "metadata": {},
   "source": [
    "Essendo una struttura dati immutabile, non puoi modificare gli elementi ma puoi solo aggiungerne di nuovi o eliminarne alcuni.\n",
    "\n",
    "Per aggiungere nuovi elementi puoi usare il metodo `.add()` oppure il metodo `.update()`."
   ]
  },
  {
   "cell_type": "code",
   "execution_count": null,
   "id": "8480b21b-936e-477c-b310-d6baa3ec8a01",
   "metadata": {},
   "outputs": [],
   "source": [
    "frutta = {\"mela\", \"banana\", \"ciliegia\"}\n",
    "frutta.add(\"arancia\")\n",
    "print(frutta)"
   ]
  },
  {
   "cell_type": "code",
   "execution_count": null,
   "id": "4e815840-55b2-4113-a47d-cef60dc702da",
   "metadata": {},
   "outputs": [],
   "source": [
    "tropicale = {\"ananas\", \"mango\", \"papaya\"}\n",
    "frutta.update(tropicale)\n",
    "print(frutta)"
   ]
  },
  {
   "cell_type": "markdown",
   "id": "7761054e-4a9d-434b-8fe3-1bb9b307d44d",
   "metadata": {},
   "source": [
    "Il metodo `update()` accetta un qualunque elemento iterabile (non solo un altro set ma anche una lista, una tupla o un dizionario)."
   ]
  },
  {
   "cell_type": "code",
   "execution_count": null,
   "id": "eba44a4c-41ba-4c07-9205-111ce13b56fc",
   "metadata": {},
   "outputs": [],
   "source": [
    "frutta.update([\"kiwi\",\"anguria\"])\n",
    "print(frutta)"
   ]
  },
  {
   "cell_type": "markdown",
   "id": "013d15cb-be9b-4d2a-9ebc-d9a8ecc65f76",
   "metadata": {},
   "source": [
    "Per rimuovere un elemento si può usare il metodo `remove()` oppure il metodo `discard()`. La differenza è che se usiamo il metodo `.remove()` e l'elemento non è presente nel set allora il metodo restituisce un errore, `discard()` non restituisce mai alcun errore. Si può usare anche il metodo `.pop()` che elimina un elemento a caso."
   ]
  },
  {
   "cell_type": "code",
   "execution_count": null,
   "id": "1bcbeb20-4350-4f02-90de-e3862fc58f03",
   "metadata": {},
   "outputs": [],
   "source": [
    "frutta.remove(\"banana\")\n",
    "print(frutta)"
   ]
  },
  {
   "cell_type": "code",
   "execution_count": null,
   "id": "87c39530-70d4-4d03-9a3d-2228103a224b",
   "metadata": {},
   "outputs": [],
   "source": [
    "frutta.remove(\"banana\")\n",
    "print(frutta)"
   ]
  },
  {
   "cell_type": "code",
   "execution_count": null,
   "id": "bea08b57-b142-4e4a-a397-91cb85063915",
   "metadata": {},
   "outputs": [],
   "source": [
    "frutta.discard(\"banana\")\n",
    "print(frutta)"
   ]
  },
  {
   "cell_type": "code",
   "execution_count": null,
   "id": "ea0d8175-bc96-432e-90bf-c9d0f5e9111b",
   "metadata": {},
   "outputs": [],
   "source": [
    "frutta.pop()\n",
    "print(frutta)"
   ]
  },
  {
   "cell_type": "markdown",
   "id": "06f13500-e734-4c8f-a24a-b86acd18e1b4",
   "metadata": {},
   "source": [
    "Con il metodo `clear()` svuotiamo il set, con la parola chiave `del()` cancelliamo il set e quindi rimuoviamo lo spazio di memoria allocato alla variabile."
   ]
  },
  {
   "cell_type": "code",
   "execution_count": null,
   "id": "339b6587-5d26-4ed8-ab3b-90db5aa2fe9b",
   "metadata": {},
   "outputs": [],
   "source": [
    "frutta.clear()\n",
    "print(frutta)"
   ]
  },
  {
   "cell_type": "code",
   "execution_count": null,
   "id": "89f1e9b5-af1f-4ade-a18c-234b4f5095ed",
   "metadata": {},
   "outputs": [],
   "source": [
    "del frutta\n",
    "print(frutta)"
   ]
  },
  {
   "cell_type": "markdown",
   "id": "989e17d3-2748-4ca3-b3ba-ac8f4aa19132",
   "metadata": {},
   "source": [
    "Dato che set in italiano significa insieme, si possono effettuare tutte le operazioni insiemistiche di base.\n",
    "\n",
    "- `union()` restituisce un nuovo set che contiene gli elementi presenti in entrambi i set\n",
    "- `intersection()` restituisce un nuovo set contenente gli elementi presenti in entrambi i set\n",
    "- `symmetric_difference()` restituisce un nuovo set contenente gli elementi che non sono presenti in entrambi i set"
   ]
  },
  {
   "cell_type": "code",
   "execution_count": null,
   "id": "7904e560-4194-4286-bdb9-e3afb6c752d4",
   "metadata": {},
   "outputs": [],
   "source": [
    "set1 = {\"a\", \"b\" , \"c\"}\n",
    "set2 = {1, 2, 3}\n",
    "\n",
    "set3 = set1.union(set2)\n",
    "print(set3)"
   ]
  },
  {
   "cell_type": "code",
   "execution_count": null,
   "id": "9aa02335-12fd-4fe7-872d-61e797b0ecc1",
   "metadata": {},
   "outputs": [],
   "source": [
    "x = {\"apple\", \"banana\", \"cherry\"}\n",
    "y = {\"google\", \"microsoft\", \"apple\"}\n",
    "\n",
    "z = x.intersection(y)\n",
    "\n",
    "print(z)"
   ]
  },
  {
   "cell_type": "code",
   "execution_count": null,
   "id": "ec510bb7-1517-4c53-89ee-89b3024c903c",
   "metadata": {},
   "outputs": [],
   "source": [
    "x = {\"apple\", \"banana\", \"cherry\"}\n",
    "y = {\"google\", \"microsoft\", \"apple\"}\n",
    "\n",
    "z = x.symmetric_difference(y)\n",
    "\n",
    "print(z)"
   ]
  },
  {
   "cell_type": "markdown",
   "id": "bb5e6452-2c80-4bfe-ab03-6a6489970d0e",
   "metadata": {},
   "source": [
    "## Esercizi"
   ]
  },
  {
   "cell_type": "code",
   "execution_count": null,
   "id": "2c282d1f-4700-4c45-8030-eb5004bb73ec",
   "metadata": {},
   "outputs": [],
   "source": [
    "\"\"\"\n",
    "Scrivi un programma che chiede in input una stringa e controlla se è un pangramma. Un pangramma è una stringa che contiene tutte le lettere dell'alfabeto.\n",
    "\"\"\""
   ]
  },
  {
   "cell_type": "code",
   "execution_count": null,
   "id": "ba2b7fcd-069a-439b-b51f-bbc98bc745c7",
   "metadata": {},
   "outputs": [],
   "source": [
    "\"\"\"\n",
    "Scrivi un programma che chiede in input una stringa e controlla se la stringa è scritta in binario.\n",
    "\"\"\""
   ]
  }
 ],
 "metadata": {
  "kernelspec": {
   "display_name": "Python 3 (ipykernel)",
   "language": "python",
   "name": "python3"
  },
  "language_info": {
   "codemirror_mode": {
    "name": "ipython",
    "version": 3
   },
   "file_extension": ".py",
   "mimetype": "text/x-python",
   "name": "python",
   "nbconvert_exporter": "python",
   "pygments_lexer": "ipython3",
   "version": "3.11.2"
  }
 },
 "nbformat": 4,
 "nbformat_minor": 5
}
