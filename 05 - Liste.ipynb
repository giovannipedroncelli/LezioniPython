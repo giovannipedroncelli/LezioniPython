{
 "cells": [
  {
   "cell_type": "markdown",
   "metadata": {},
   "source": [
    "# Liste in Python\n",
    "\n",
    "Una lista è una struttura dati Python che può contenere qualunque combinazione di tipi di dato che abbiamo studiato finora."
   ]
  },
  {
   "cell_type": "code",
   "execution_count": null,
   "metadata": {},
   "outputs": [],
   "source": [
    "lista_a_caso = [1, 3.4, 'una stringa', True]"
   ]
  },
  {
   "cell_type": "markdown",
   "metadata": {},
   "source": [
    "Questa è una lista di 4 elementi: le liste sono **contenitori ordinati di valori** (come le stringhe) e si può accedere ai singoli elementi che contengono usando un indice che parte da 0.\n",
    "\n",
    "Per estrarre il primo valore possiamo scrivere:"
   ]
  },
  {
   "cell_type": "code",
   "execution_count": null,
   "metadata": {},
   "outputs": [],
   "source": [
    "print(lista_a_caso[0])"
   ]
  },
  {
   "cell_type": "markdown",
   "metadata": {},
   "source": [
    "Per estrarre l'ultimo elemento della lista possiamo usare uno dei seguenti due metodi alternativi:"
   ]
  },
  {
   "cell_type": "code",
   "execution_count": null,
   "metadata": {},
   "outputs": [],
   "source": [
    "print(lista_a_caso[len(lista_a_caso) - 1] )"
   ]
  },
  {
   "cell_type": "code",
   "execution_count": null,
   "metadata": {},
   "outputs": [],
   "source": [
    "print(lista_a_caso[-1] )"
   ]
  },
  {
   "cell_type": "markdown",
   "metadata": {},
   "source": [
    "## Slicing delle liste\n",
    "Possiamo estrarre più di un valore dalla lista usando lo slicing come nell'istruzione successiva."
   ]
  },
  {
   "cell_type": "code",
   "execution_count": null,
   "metadata": {},
   "outputs": [],
   "source": [
    "print(lista_a_caso[1:2])"
   ]
  },
  {
   "cell_type": "markdown",
   "metadata": {},
   "source": [
    "Importante ricordare che il primo indice dello slicing è incluso mentre il secondo non è incluso nel risultato: lo slicing estrae gli elementi a partire dal valore con indice uguale al primo numero contenuto nelle parentesi quadre fino all'elemento con indice uguale al secondo numero contenuto nelle parentesi quadre (ma questo secondo elemento non è incluso).\n",
    "\n",
    "Se vuoi partire dal primo elemento, puoi evitare di inserire il primo numero:"
   ]
  },
  {
   "cell_type": "code",
   "execution_count": null,
   "metadata": {},
   "outputs": [],
   "source": [
    "print(lista_a_caso[:2])"
   ]
  },
  {
   "cell_type": "markdown",
   "metadata": {},
   "source": [
    "o se vuoi arrivare fino alla fine della lista, puoi non scrivere il secondo numero."
   ]
  },
  {
   "cell_type": "code",
   "execution_count": null,
   "metadata": {},
   "outputs": [],
   "source": [
    "print(lista_a_caso[1:])"
   ]
  },
  {
   "cell_type": "markdown",
   "metadata": {},
   "source": [
    "Questa indicizzazione funziona anche sulle stringhe.\n",
    "\n",
    "## Operatore in\n",
    "\n",
    "L'operatore in restituisce un booleano che ci indica se un elemento appartiene o no ad una lista (o se una sottostringa appartiene a una determinata stringa)."
   ]
  },
  {
   "cell_type": "code",
   "execution_count": null,
   "metadata": {},
   "outputs": [],
   "source": [
    "print('questa' in 'questa è una stringa')"
   ]
  },
  {
   "cell_type": "code",
   "execution_count": null,
   "metadata": {},
   "outputs": [],
   "source": [
    "print('in' in 'questa è una stringa')"
   ]
  },
  {
   "cell_type": "code",
   "execution_count": null,
   "metadata": {},
   "outputs": [],
   "source": [
    "print('èuna' in 'questa è una stringa')"
   ]
  },
  {
   "cell_type": "code",
   "execution_count": null,
   "metadata": {},
   "outputs": [],
   "source": [
    "print(5 not in [1, 2, 3, 4, 6])"
   ]
  },
  {
   "cell_type": "code",
   "execution_count": null,
   "metadata": {},
   "outputs": [],
   "source": [
    "5 in [1, 2, 3, 4, 6]"
   ]
  },
  {
   "cell_type": "markdown",
   "metadata": {},
   "source": [
    "## Mutabilità\n",
    "La mutabilità è la proprietà di un oggetto di essere modificato dopo essere stato creato. Se un oggetto può essere modificato si dice mutabile, altrimenti si dice immutabile.\n",
    "\n",
    "**Le liste sono mutabili, le stringhe sono immutabili.**"
   ]
  },
  {
   "cell_type": "code",
   "execution_count": null,
   "metadata": {},
   "outputs": [],
   "source": [
    "lista = [1, 2, 3, 4, 5]\n",
    "lista[0] = 'uno'\n",
    "print(lista)"
   ]
  },
  {
   "cell_type": "markdown",
   "metadata": {},
   "source": [
    "Siamo stati in grado di modificare il primo elemento della lista perché le liste sono mutabili.\n",
    "\n",
    "Il codice seguente, invece, non può funzionare."
   ]
  },
  {
   "cell_type": "code",
   "execution_count": null,
   "metadata": {},
   "outputs": [],
   "source": [
    "saluto = \"Ciao a tutti\"\n",
    "saluto[-1] = 'e'"
   ]
  },
  {
   "cell_type": "markdown",
   "metadata": {},
   "source": [
    "Viene mostrato un errore perché le stringhe sono immutabili e non possono essere modificate dopo essere state create.\n",
    "Tuttavia, le linee seguenti di codice non generano alcun errore"
   ]
  },
  {
   "cell_type": "code",
   "execution_count": null,
   "metadata": {},
   "outputs": [],
   "source": [
    "saluto = \"Ciao a tutti\"\n",
    "saluto = \"Ciao a tutte\""
   ]
  },
  {
   "cell_type": "markdown",
   "metadata": {},
   "source": [
    "La seconda istruzione crea un nuovo spazio nella memoria centrale dove la stringa è memorizzata, creando una nuova stringa, cioè un nuovo oggetto anche se con lo stesso nome.\n",
    "\n",
    "Bisogna fare attenzione ad assegnare una lista ad un'altra lista come nel frammento di codice seguente."
   ]
  },
  {
   "cell_type": "code",
   "execution_count": null,
   "metadata": {},
   "outputs": [],
   "source": [
    "lista1 = [1,2,3,4]\n",
    "lista2 = lista1\n",
    "lista2[0] = 0\n",
    "print(lista1)"
   ]
  },
  {
   "cell_type": "markdown",
   "metadata": {},
   "source": [
    "L'istruzione `lista2 = lista1` NON crea un nuovo spazio di memoria per lista2 ma semplicemente lista2 punta alla stessa cella di memoria di lista1.\n",
    "\n",
    "Le istruzioni che modificano lista2 e lista1 modificano la stessa lista e quindi i cambiamenti si riflettono su entrambe le variabili che sono due nomi diversi per indicare la stessa lista.\n",
    "\n",
    "## Funzioni per le liste\n",
    "\n",
    "Le funzioni accettano come parametro una lista e NON modificano mai la lista passata come parametro.\n",
    "\n",
    "- len() restituisce il numero di elementi nella lista.\n",
    "- max() restituisce l'elemento più grande all'interno della lista. Si può usare solo se la lista contiene elementi dello stesso tipo (tutti int, tutti float, tutte stringhe). Se la lista contiene numeri restituisce il numero più grande. Se la lista contiene stringhe restituisce la stringa che si troverebbe per ultima nel dizionario.\n",
    "- min() restituisce l'elemento più piccolo all'interno della lista. Funziona in modo identico a max().\n",
    "- sorted() restituisce una copia della lista ordinata dall'elemento più piccolo al più grande e non modifica la lista di partenza. Funziona anche con le stringhe."
   ]
  },
  {
   "cell_type": "code",
   "execution_count": null,
   "metadata": {},
   "outputs": [],
   "source": [
    "lista = [34, 46, 23, 15]"
   ]
  },
  {
   "cell_type": "code",
   "execution_count": null,
   "metadata": {},
   "outputs": [],
   "source": [
    "print(len(lista))"
   ]
  },
  {
   "cell_type": "code",
   "execution_count": null,
   "metadata": {},
   "outputs": [],
   "source": [
    "print(max(lista))"
   ]
  },
  {
   "cell_type": "code",
   "execution_count": null,
   "metadata": {},
   "outputs": [],
   "source": [
    "print(min(lista))"
   ]
  },
  {
   "cell_type": "code",
   "execution_count": null,
   "metadata": {},
   "outputs": [],
   "source": [
    "print(sorted(lista))"
   ]
  },
  {
   "cell_type": "code",
   "execution_count": null,
   "metadata": {},
   "outputs": [],
   "source": [
    "print(sorted(lista, reverse=True))"
   ]
  },
  {
   "cell_type": "markdown",
   "metadata": {},
   "source": [
    "## Metodi per le liste\n",
    "\n",
    "I metodi si applicano dopo il nome della lista seguito da un punto e modificano la lista a cui sono applicati.\n",
    "\n",
    "- Join è un metodo per stringhe che accetta come parametro una lista di stringhe e e restituisce una singola stringa formata dagli elementi della lista uniti da una stringa separatrice:"
   ]
  },
  {
   "cell_type": "code",
   "execution_count": null,
   "metadata": {},
   "outputs": [],
   "source": [
    "nuova_stringa = \"\\n\".join([\"a\", \"b\", \"c\", \"d\"])\n",
    "print(nuova_stringa)"
   ]
  },
  {
   "cell_type": "markdown",
   "metadata": {},
   "source": [
    "Abbiamo usato \"\\n\" come separatore: quindi è stata aggiunta una riga vuota tra ogni elemento della lista."
   ]
  },
  {
   "cell_type": "code",
   "execution_count": null,
   "metadata": {},
   "outputs": [],
   "source": [
    "nome = \"-\".join([\"Giovanni\", \"Pedroncelli\"])\n",
    "print(nome)"
   ]
  },
  {
   "cell_type": "markdown",
   "metadata": {},
   "source": [
    "- Il metodo append permette di aggiungere un elemento alla fine di una lista"
   ]
  },
  {
   "cell_type": "code",
   "execution_count": null,
   "metadata": {},
   "outputs": [],
   "source": [
    "lettere = ['a', 'b', 'c', 'd']\n",
    "lettere.append('z')\n",
    "print(lettere)"
   ]
  },
  {
   "cell_type": "markdown",
   "metadata": {},
   "source": [
    "- Il metodo remove permette di rimuovere un elemento dalla lista e accetta come parametro l'elemento da rimuovere:"
   ]
  },
  {
   "cell_type": "code",
   "execution_count": null,
   "metadata": {},
   "outputs": [],
   "source": [
    "lettere = ['a', 'b', 'c', 'd']\n",
    "lettere.remove('c')\n",
    "print(lettere)"
   ]
  },
  {
   "cell_type": "markdown",
   "metadata": {},
   "source": [
    "- Il metodo insert permette di inserire un elemento e accetta due parametri: l'indice della lista in cui inserire il valore e il valore da inserire:"
   ]
  },
  {
   "cell_type": "code",
   "execution_count": null,
   "metadata": {},
   "outputs": [],
   "source": [
    "lettere = ['a', 'b', 'd']\n",
    "lettere.insert(2, 'c')\n",
    "print(lettere)"
   ]
  },
  {
   "cell_type": "markdown",
   "metadata": {},
   "source": [
    "- Il metodo pop permette di rimuovere un elemento dalla lista e accetta come parametro la posizione dell'elemento da rimuovere"
   ]
  },
  {
   "cell_type": "code",
   "execution_count": null,
   "metadata": {},
   "outputs": [],
   "source": [
    "lettere = ['a', 'b', 'c', 'd']\n",
    "lettere.pop(1)\n",
    "print(lettere)"
   ]
  },
  {
   "cell_type": "markdown",
   "metadata": {},
   "source": [
    "Se non passiamo alcun parametro al metodo pop verrà rimosso l'ultimo elemento della lista"
   ]
  },
  {
   "cell_type": "code",
   "execution_count": null,
   "metadata": {},
   "outputs": [],
   "source": [
    "lettere = ['a', 'b', 'c', 'd']\n",
    "lettere.pop()\n",
    "print(lettere)"
   ]
  },
  {
   "cell_type": "markdown",
   "metadata": {},
   "source": [
    "- Il metodo sort() è uguale alla funzione sorted() ma, essendo un metodo, modifica la lista a cui è applicato."
   ]
  },
  {
   "cell_type": "code",
   "execution_count": null,
   "metadata": {},
   "outputs": [],
   "source": [
    "lista = [34, 46, 23, 15]\n",
    "lista.sort()\n",
    "print(lista)"
   ]
  },
  {
   "cell_type": "markdown",
   "metadata": {},
   "source": [
    "## Ciclo for sulle liste\n",
    "\n",
    "La lista è un tipo di dato iterabile, un oggetto che può restituire uno dei suoi elementi in ogni iterazione di un ciclo."
   ]
  },
  {
   "cell_type": "code",
   "execution_count": null,
   "metadata": {},
   "outputs": [],
   "source": [
    "numeri = [3, 7, 2, 1, 4, 6, 5, 8]\n",
    "numeri_pari = []\n",
    "for numero in numeri:\n",
    "\tif numero % 2 == 0:\n",
    "\t\tnumeri_pari.append(numero)"
   ]
  },
  {
   "cell_type": "markdown",
   "metadata": {},
   "source": [
    "Nell'esempio il ciclo for serve a iterare sulla lista numeri e a riempire una nuova lista numeri_pari che conterrà solo i numeri pari inclusi nella lista numeri. La variabile numero è un iteratore: ad ogni iterazione del ciclo conterrà uno degli elementi della lista numeri. Nella prima iterazione numero = 3, nella seconda numero = 7 e così via fino ad arrivare all'ultimo elemento della lista nell'ultima iterazione.\n",
    "### Esercizi"
   ]
  },
  {
   "cell_type": "code",
   "execution_count": null,
   "metadata": {},
   "outputs": [],
   "source": [
    "'''\n",
    "Scrivere una funzione in Python che accetta in input il nome di un mese (chiesto in input prima di invocare la funzione) e restituisce il numero di giorni di quel mese. Dopo aver invocato la funzione stampare una stringa contenente il risultato.\n",
    "Non è possibile usare if ed elif.\n",
    "Può essere utile definire una lista di 12 elementi contenente, in modo ordinato, i giorni di ciascun mese dell'anno.\n",
    "'''"
   ]
  },
  {
   "cell_type": "code",
   "execution_count": null,
   "metadata": {},
   "outputs": [],
   "source": [
    "'''\n",
    "Data la lista sotto, scrivere le istruzioni Python che permettono di:\n",
    "\n",
    "- aggiungere la seguente data alla fine della lista: '21 agosto 2017'\n",
    "- rimuovere l'eclissi in data '31 agosto 2011'\n",
    "- aggiungere la seguente data al posto giusto nella lista: '1 agosto 2008'\n",
    "- rimuovere la seconda eclissi nella lista\n",
    "- modificare la data '23 novembre 2012' che è un refuso: la data corretta è '13 novembre 2012'\n",
    "- stampare la quarta eclissi\n",
    "- stampare la terzultima eclissi\n",
    "- stampare le prime tre eclissi\n",
    "- stampare le ultime tre eclissi\n",
    "- stampare le eclissi che si sono verificate nel decennio 2006-2015\n",
    "- stampare le eclissi che si sono verificate a novembre\n",
    "\n",
    "'''\n",
    "\n",
    "date_eclissi = ['21 giugno 2001', '23 agosto 2002', '4 dicembre 2002', '23 novembre 2003',\n",
    "\t '29 marzo 2006', '22 luglio 2009',\n",
    "\t '11 luglio 2010', '31 agosto 2011', '23 novembre 2012', '20 marzo 2015',\n",
    "\t '9 marzo 2016']   \n"
   ]
  },
  {
   "cell_type": "code",
   "execution_count": null,
   "metadata": {},
   "outputs": [],
   "source": [
    "'''\n",
    "Scrivere una funzione che accetta come parametro una lista di stringhe e restituisce:\n",
    "- una lista con tutte le stringhe con l'iniziale maiuscola\n",
    "- una lista con le stringhe condensate in un'unica stringa e separate da una virgola\n",
    "- la stringa più lunga\n",
    "- una lista contenente le stringhe ordinate da quella alfabeticamente maggiore a quella alfabeticamente minore\n",
    "\n",
    "'''"
   ]
  },
  {
   "cell_type": "markdown",
   "metadata": {},
   "source": [
    "## Liste bidimensionali\n",
    "\n",
    "Le liste possono contenere altre liste: in tal caso si chiamano liste bidimensionali.\n",
    "\n",
    "Supponiamo di voler memorizzare le altezze di alcune persone. Senza usare liste bidimensionali, dovremmo creare una lista per ciascuna persona, come nell'esempio seguente:"
   ]
  },
  {
   "cell_type": "code",
   "execution_count": null,
   "metadata": {},
   "outputs": [],
   "source": [
    "giovanni = ['Giovanni', 178]\n",
    "marco = ['Marco', 183]\n",
    "luisa = ['Luisa', 170]"
   ]
  },
  {
   "cell_type": "markdown",
   "metadata": {},
   "source": [
    "Con le liste bidimensionali possiamo usare una sola variabile come nell'esempio seguente:"
   ]
  },
  {
   "cell_type": "code",
   "execution_count": null,
   "metadata": {},
   "outputs": [],
   "source": [
    "altezze = [['Giovanni', 178], ['Marco', 183], ['Luisa', 170]]"
   ]
  },
  {
   "cell_type": "markdown",
   "metadata": {},
   "source": [
    "Sulle liste bidimensionali si possono usare tutte le funzioni e i metodi già visti per le liste. Se vogliamo aggiungere un'altra coppia persona-altezza alla lista possiamo usare il metodo `append()`:"
   ]
  },
  {
   "cell_type": "code",
   "execution_count": null,
   "metadata": {},
   "outputs": [],
   "source": [
    "altezze.append(['Giulia', 174])"
   ]
  },
  {
   "cell_type": "markdown",
   "metadata": {},
   "source": [
    "Le liste bidimensionali possono essere considerate come delle tabelle composte da righe e colonne. Nel caso della lista altezze, la tabella è composta in questo modo:\n",
    "\n",
    "**Nome**&nbsp;&nbsp;&nbsp;&nbsp;&nbsp;&nbsp;&nbsp;&nbsp;&nbsp;&nbsp;&nbsp;&nbsp;**Altezza**\n",
    "\n",
    "Giovanni&nbsp;&nbsp;&nbsp;&nbsp;&nbsp;&nbsp;&nbsp;&nbsp;&nbsp;&nbsp;&nbsp;&nbsp;178\n",
    "\n",
    "Marco&nbsp;&nbsp;&nbsp;&nbsp;&nbsp;&nbsp;&nbsp;&nbsp;&nbsp;&nbsp;&nbsp;&nbsp;&nbsp;&nbsp;&nbsp;&nbsp;&nbsp;183\n",
    "\n",
    "Luisa&nbsp;&nbsp;&nbsp;&nbsp;&nbsp;&nbsp;&nbsp;&nbsp;&nbsp;&nbsp;&nbsp;&nbsp;&nbsp;&nbsp;&nbsp;&nbsp;&nbsp;&nbsp;&nbsp;170\n",
    "\n",
    "Giulia&nbsp;&nbsp;&nbsp;&nbsp;&nbsp;&nbsp;&nbsp;&nbsp;&nbsp;&nbsp;&nbsp;&nbsp;&nbsp;&nbsp;&nbsp;&nbsp;&nbsp;&nbsp;174\n",
    "\n",
    "\n",
    "Bisogna fare attenzione al modo in cui usiamo gli indici nelle liste bidimensionali. Per stampare l'altezza di Luisa dobbiamo scrivere così:"
   ]
  },
  {
   "cell_type": "code",
   "execution_count": null,
   "metadata": {},
   "outputs": [],
   "source": [
    "print(altezze[2][1])"
   ]
  },
  {
   "cell_type": "markdown",
   "metadata": {},
   "source": [
    "Considerando la lista bidimensionale come una tabella, ciò equivale a dire: stampa la seconda colonna (indice 1) della terza riga (indice 2). Quindi si inserisce l'indice della riga e poi l'indice della colonna. Si possono usare anche indici negativi quindi possiamo anche scrivere:"
   ]
  },
  {
   "cell_type": "code",
   "execution_count": null,
   "metadata": {},
   "outputs": [],
   "source": [
    "print(altezze[-2][-1])"
   ]
  },
  {
   "cell_type": "markdown",
   "metadata": {},
   "source": [
    "## List comprehension\n",
    "\n",
    "In Python si possono creare liste molto velocemente e in modo conciso. Un esercizio della lezione precedente richiedeva di ottenere da una lista di stringhe un'altra lista contenente le stesse stringhe ma con l'iniziale maiuscola. La soluzione proposta era questa:"
   ]
  },
  {
   "cell_type": "code",
   "execution_count": null,
   "metadata": {},
   "outputs": [],
   "source": [
    "iniziale_maiuscola = []\n",
    "for stringa in lista_stringhe:\n",
    "\tiniziale_maiuscola.append(stringa.title())"
   ]
  },
  {
   "cell_type": "markdown",
   "metadata": {},
   "source": [
    "Con la list comprehension possiamo ottenere lo stesso risultato scrivendo meno codice e con tempi di esecuzione più bassi (quindi programma più efficiente):"
   ]
  },
  {
   "cell_type": "code",
   "execution_count": null,
   "metadata": {},
   "outputs": [],
   "source": [
    "iniziale_maiuscola = [stringa.title() for stringa in lista_stringhe]"
   ]
  },
  {
   "cell_type": "markdown",
   "metadata": {},
   "source": [
    "L'operazione di list comprehension è sempre racchiusa da parentesi quadre e contiene un'espressione da valutare per ogni elemento contenuto in una lista di partenza (in questo caso è la variabile lista_stringhe). L'esempio qui su applica il metodo title() ad ogni elemento contenuto nella lista di partenza per creare un nuovo elemento della nuova lista iniziale_maiuscola\n",
    "\n",
    "### List comprehension con condizioni"
   ]
  },
  {
   "cell_type": "code",
   "execution_count": null,
   "metadata": {},
   "outputs": [],
   "source": [
    "quadrati = [x**2 for x in range(9) if x % 2 == 0]"
   ]
  },
  {
   "cell_type": "markdown",
   "metadata": {},
   "source": [
    "Il codice qui sopra produce come risultato la lista [0, 4, 16, 36, 64], perché calcola il quadrato del numero nel range (da 0 a 8) solo se il numero è pari. \n",
    "\n",
    "Si può aggiungere anche l'else ma NON come nel codice qui di seguito:"
   ]
  },
  {
   "cell_type": "code",
   "execution_count": null,
   "metadata": {},
   "outputs": [],
   "source": [
    "quadrati = [x**2 for x in range(9) if x % 2 == 0 else x + 3]"
   ]
  },
  {
   "cell_type": "markdown",
   "metadata": {},
   "source": [
    "Il codice qui sopra restituisce un Syntax Error.\n",
    "\n",
    "Per aggiungere l'else, bisogna spostare il blocco di condizioni (if-else) all'inizio e il ciclo for alla fine dell'espressione come nel codice seguente:"
   ]
  },
  {
   "cell_type": "code",
   "execution_count": null,
   "metadata": {},
   "outputs": [],
   "source": [
    "quadrati = [x**2 if x % 2 == 0 else x + 3 for x in range(9)]"
   ]
  },
  {
   "cell_type": "markdown",
   "metadata": {},
   "source": [
    "### Esercizi"
   ]
  },
  {
   "cell_type": "code",
   "execution_count": null,
   "metadata": {},
   "outputs": [],
   "source": [
    "'''\n",
    "Gestisci i dati degli acquisti in un negozio. Crea una lista che contenga i dati dei clienti mostrati nella tabella seguente:\n",
    "\n",
    "Nome\t\t\tTaglia\t\t\tSpedizione veloce\n",
    "\"Alessia\"\t\t\"Small\"\t\t\t\tTrue\n",
    "\"Vito\"\t\t\t\"Large\"\t\t\t\tFalse\n",
    "\"Carlo\"\t\t\t\"Medium\"\t\t\tTrue\n",
    "\"Debora\"\t\t\"Medium\"\t\t\tFalse\n",
    "\n",
    "Definisci poi due funzioni:\n",
    "\n",
    "1) Aggiunta di nuovi clienti che accetta in input una lista contenente Nome, Taglia e Spedizione veloce e la aggiunge alla lista definita precedentemente\n",
    "2) Modifica di uno dei valori della lista che accetta in input il nome del cliente, il campo da modificare (Taglia o Spedizione veloce) e il nuovo valore da inserire in quel campo e modifica la lista.\n",
    "\n",
    "'''"
   ]
  },
  {
   "cell_type": "code",
   "execution_count": null,
   "metadata": {},
   "outputs": [],
   "source": [
    "'''\n",
    "Definire una funzione lambda chiamata media che restituisce la media dei numeri contenuti in una lista passata come parametro ed eseguire la cella per comprendere l'ooutput prodotto.\n",
    "La funzione map() è una funzione di ordine superiore e accetta due parametri: il primo è una funzione lambda e il secondo è una lista. map() chiama la funzione lambda\n",
    "su tutti gli elementi contenuti nella lista in modo automatico.\n",
    "'''\n",
    "numeri = [\n",
    "              [34, 63, 88, 71, 29],\n",
    "              [90, 78, 51, 27, 45],\n",
    "              [63, 37, 85, 46, 22],\n",
    "              [51, 22, 34, 11, 18]\n",
    "           ]\n",
    "\n",
    "# definire qui la funzione lambda chiamata media\n",
    "\n",
    "risultato = list(map(media, numeri))\n",
    "print(risultato)"
   ]
  },
  {
   "cell_type": "code",
   "execution_count": null,
   "metadata": {},
   "outputs": [],
   "source": [
    "'''\n",
    "Definire una funzione lambda chiamata breve che restituisce True se una stringa passata come parametro ha lunghezza inferiore a 10 caratteri, False in caso contrario.\n",
    "La funzione filter() è una funzione di ordine superiore e accetta due parametri: il primo è una funzione lambda e il secondo è una lista. filter() chiama la funzione lambda\n",
    "su tutti gli elementi contenuti nella lista e restituisce una lista contenente solo gli elementi per cui la funzione lambda restituisce True.\n",
    "'''\n",
    "\n",
    "citta = [\"New York City\", \"Los Angeles\", \"Chicago\", \"Mountain View\", \"Denver\", \"Boston\"]\n",
    "\n",
    "# definire qui la funzione lambda chiamata breve\n",
    "\n",
    "citta_brevi = list(filter(breve, citta))"
   ]
  },
  {
   "cell_type": "code",
   "execution_count": null,
   "metadata": {},
   "outputs": [],
   "source": [
    "'''\n",
    "Definisci una lista contenente i nomi e cognomi di 5 tuoi compagni di classe (la lista contiene 5 elementi di tipo stringa e in ogni stringa è contenuto un nome e un cognome) con le iniziali di nome e cognome maiuscole.\n",
    "\n",
    "Tramite list comprehension crea una nuova lista a partire dalla prima che contiene solo il nome proprio di ciascuna persona scritto tutto in minuscolo.\n",
    "\n",
    "'''"
   ]
  },
  {
   "cell_type": "code",
   "execution_count": null,
   "metadata": {},
   "outputs": [],
   "source": [
    "'''\n",
    "Definisci una lista contenente i primi 20 multipli di 3 usando la list comprehension.\n",
    "\n",
    "'''"
   ]
  },
  {
   "cell_type": "code",
   "execution_count": null,
   "metadata": {},
   "outputs": [],
   "source": [
    "'''\n",
    "Data la lista definita qui sotto contenente i voti di vari studenti, definisci una lista contenente le stringhe \"Promosso\" o \"Bocciato\" usando la list comprehension.\n",
    "\n",
    "Il risultato dev'essere la lista: ['Promosso', 'Promosso', 'Bocciato', 'Bocciato', 'Promosso', 'Bocciato', 'Promosso', 'Promosso']\n",
    "'''\n",
    "\n",
    "voti = [7, 6, 5.5, 4, 9, 3.5, 6.5, 8]"
   ]
  }
 ],
 "metadata": {
  "kernelspec": {
   "display_name": "Python 3 (ipykernel)",
   "language": "python",
   "name": "python3"
  },
  "language_info": {
   "codemirror_mode": {
    "name": "ipython",
    "version": 3
   },
   "file_extension": ".py",
   "mimetype": "text/x-python",
   "name": "python",
   "nbconvert_exporter": "python",
   "pygments_lexer": "ipython3",
   "version": "3.11.2"
  }
 },
 "nbformat": 4,
 "nbformat_minor": 4
}
