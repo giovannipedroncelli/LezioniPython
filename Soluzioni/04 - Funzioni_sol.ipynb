{
 "cells": [
  {
   "cell_type": "markdown",
   "metadata": {},
   "source": [
    "# Le funzioni o sottoprogrammi\n",
    "Le funzioni o sottoprogrammi permettono di raggruppare il codice che scriviamo in blocchi riutilizzabili, per evitare di scrivere più volte le stesse istruzioni.\n",
    "\n",
    "Innanzitutto, dobbiamo definire che cosa la funzione deve fare, di quali input ha bisogno (se ne ha bisogno) e quali output produce (se ne produce).\n",
    "Dopo aver definito la funzione, la possiamo invocare o chiamare: quando una funzione viene invocata, saranno eseguite tutte le istruzioni che la compongono.\n",
    "\n",
    "## Definizione di una funzione"
   ]
  },
  {
   "cell_type": "code",
   "execution_count": null,
   "metadata": {},
   "outputs": [],
   "source": [
    "def prodotto(a, b):\n",
    "    segno = 1\n",
    "    if b < 0:\n",
    "        segno = -1\n",
    "        b = b * (-1)\n",
    "    prodotto = a\n",
    "    for i in range(b-1):\n",
    "    \tprodotto += a\n",
    "    return prodotto"
   ]
  },
  {
   "cell_type": "markdown",
   "metadata": {},
   "source": [
    "Una definizione di funzione include gli elementi seguenti.\n",
    "\n",
    "### Intestazione di una funzione\n",
    "L'intestazione è la prima riga della definizione di una funzione e inizia sempre con la parola-chiave `def` che indica che si tratta della definizione di una funzione.\n",
    "\n",
    "Dopo c'è il nome della funzione che segue le stesse regole dei nomi delle variabili:\n",
    "- Si possono usare lettere, cifre e underscore.\n",
    "- Non si possono usare spazi.\n",
    "- Deve iniziare con una lettera o con l'underscore.\n",
    "- Non si possono usare parole chiave o parole riservate.\n",
    "- Bisogna usare nomi descrittivi per aiutare il lettore a comprendere che cosa fa la funzione.\n",
    "\n",
    "Subito dopo il nome ci sono le parentesi tonde che possono includere i nomi dei parametri (o argomenti) separati dalle virgole (nell'esempio i parametri sono a e b). I parametri sono valori che sono passati come input alla funzione quando la funzione viene invocata. Tali valori sono poi utilizzati all'interno del corpo della funzione. Una funzione può anche non accettare parametri e in questo caso le parentesi tonde saranno vuote.\n",
    "\n",
    "L'intestazione termina sempre con i due punti.\n",
    "\n",
    "### Corpo della funzione\n",
    "Il corpo della funzione è indentato rispetto all'intestazione e contiene le istruzioni che saranno eseguite quando la funzione verrà chiamata.\n",
    "All'interno del corpo della funzione possiamo anche **definire nuove variabili che saranno visibili solo all'interno di questo blocco indentato**. \n",
    "\n",
    "Il corpo della funzione può includere un'istruzione `return` che è usata per inviare uno o più valori all'istruzione che ha invocato la funzione. L'istruzione `return` non è obbligatoria: se non c'è, allora all'istruzione che ha chiamato la funzione sarà inviato il valore `None`.\n",
    "\n",
    "## Chiamata di una funzione\n",
    "\n",
    "Dopo aver definito la funzione `prodotto()` possiamo chiamarla in questo modo."
   ]
  },
  {
   "cell_type": "code",
   "execution_count": null,
   "metadata": {},
   "outputs": [],
   "source": [
    "risultato = prodotto(10, 3)"
   ]
  },
  {
   "cell_type": "markdown",
   "metadata": {},
   "source": [
    "In questo caso all'interno della variabile `risultato` sarà salvato il valore restituito dalla funzione tramite l'istruzione di `return`.\n",
    "\n",
    "Possiamo anche chiamare la funzione in questo modo:"
   ]
  },
  {
   "cell_type": "code",
   "execution_count": null,
   "metadata": {},
   "outputs": [],
   "source": [
    "print(prodotto(10, 3))"
   ]
  },
  {
   "cell_type": "markdown",
   "metadata": {},
   "source": [
    "In questo caso il valore restituito dalla funzione sarà direttamente stampato in output e NON salvato all'interno di una variabile (dopo la stampa su schermo il valore sarà perso per sempre).\n",
    "\n",
    "Se una funzione restituisce uno o più valori, non possiamo chiamare la funzione in questo modo:"
   ]
  },
  {
   "cell_type": "code",
   "execution_count": null,
   "metadata": {},
   "outputs": [],
   "source": [
    "prodotto(10, 3)"
   ]
  },
  {
   "cell_type": "markdown",
   "metadata": {},
   "source": [
    "Con una chiamata del genere, il valore restituito dalla funzione `prodotto()` sarà perso per sempre.\n",
    "\n",
    "## Parametri di default\n",
    "Possiamo aggiungere nella definizione di una funzione dei parametri di default, nel caso in cui all'interno della chiamata questi non vengano specificati."
   ]
  },
  {
   "cell_type": "code",
   "execution_count": null,
   "metadata": {},
   "outputs": [],
   "source": [
    "def saluto(nome, nazione=\"IT\"):\n",
    "\tif nazione == \"IT\":\n",
    "\t\treturn \"Ciao \" + nome + \"!\"\n",
    "\telif nazione == 'USA':\n",
    "\t\treturn \"Hi \" + nome + \"!\"\n",
    "\telif nazione == \"ESP\":\n",
    "\t\treturn \"Hola \" + nome + \"!\"\n",
    "\telse:\n",
    "\t\treturn nome +\", non conosco la tua nazionalità\""
   ]
  },
  {
   "cell_type": "markdown",
   "metadata": {},
   "source": [
    "In questo esempio, il parametro `nazione` ha un valore di default pari a \"IT\".\n",
    "Quindi, possiamo chiamare la funzione `saluto()` in due modi diversi:\n",
    "\n",
    "- Chiamata con passaggio di tutti i parametri:"
   ]
  },
  {
   "cell_type": "code",
   "execution_count": null,
   "metadata": {},
   "outputs": [],
   "source": [
    "print(saluto(\"Marco\",\"ESP\"))"
   ]
  },
  {
   "cell_type": "markdown",
   "metadata": {},
   "source": [
    "In questo caso sarà stampata la stringa: \"Hola Marco!\"\n",
    "\n",
    "- Chiamata con passaggio di tutti i parametri che non hanno valore di default:"
   ]
  },
  {
   "cell_type": "code",
   "execution_count": null,
   "metadata": {},
   "outputs": [],
   "source": [
    "print(saluto(\"Marco\"))"
   ]
  },
  {
   "cell_type": "markdown",
   "metadata": {},
   "source": [
    "In questo caso sarà stampata la stringa \"Ciao Marco!\" perché non viene passato alcun valore per il parametro nazione e la funzione usa quello di default (\"IT\").\n",
    "\n",
    "## Passaggio parametri per posizione o per nome\n",
    "\n",
    "Fino ad ora abbiamo passato i parametri per posizione: in `print(saluto(\"Marco\",\"ESP\"))` il primo parametro è nome e il secondo è nazione.\n",
    "\n",
    "Possiamo passare i parametri anche per nome, ignorando l'ordine predefinito dei parametri. Quindi possiamo chiamare la funzione `saluto()` anche in questo modo:"
   ]
  },
  {
   "cell_type": "code",
   "execution_count": null,
   "metadata": {},
   "outputs": [],
   "source": [
    "print(saluto(nazione=\"ESP\",nome=\"Marco\"))"
   ]
  },
  {
   "cell_type": "markdown",
   "metadata": {},
   "source": [
    "e il risultato sarà lo stesso.\n",
    "\n",
    "## Ambito di visibilità delle variabili (o scope)\n",
    "L'ambito di variabilità di una variabile si riferisce alle parti di un programma in cui tale variabile è visibile.\n",
    "\n",
    "Se una variabile è creata all'interno di una funzione, essa può essere usata solo all'interno di quella funzione.\n",
    "Il frammento di codice seguente darà errore:"
   ]
  },
  {
   "cell_type": "code",
   "execution_count": null,
   "metadata": {},
   "outputs": [],
   "source": [
    "def saluta():\n",
    "\tsaluti = \"ciao\"\n",
    "print(saluti)"
   ]
  },
  {
   "cell_type": "markdown",
   "metadata": {},
   "source": [
    "La variabile `saluto` ha scope locale ed è accessibile solo all'interno della funzione `saluta()`.\n",
    "\n",
    "Tramite la parola chiave `global` possiamo creare una variabile globale all'interno della funzione, quindi il frammento di codice seguente non dà errore:"
   ]
  },
  {
   "cell_type": "code",
   "execution_count": null,
   "metadata": {},
   "outputs": [],
   "source": [
    "def saluta():\n",
    "    global saluti \n",
    "    saluti = \"ciao\"\n",
    "saluta()\n",
    "print(saluti)"
   ]
  },
  {
   "cell_type": "markdown",
   "metadata": {},
   "source": [
    "Il frammento di codice seguente è valido perché posso definire variabili con lo stesso nome in ambiti di visibilità diversi:"
   ]
  },
  {
   "cell_type": "code",
   "execution_count": null,
   "metadata": {},
   "outputs": [],
   "source": [
    "def saluta():\n",
    "\tsaluto = \"ciao\"\n",
    "\n",
    "def addio():\n",
    "\tsaluto = \"addio\""
   ]
  },
  {
   "cell_type": "markdown",
   "metadata": {},
   "source": [
    "Le variabili definite al di fuori delle funzioni hanno ambito di visilibità globale e possono essere utilizzate anche all'interno di tutte le funzioni."
   ]
  },
  {
   "cell_type": "code",
   "execution_count": null,
   "metadata": {},
   "outputs": [],
   "source": [
    "saluto = \"ciao\"\n",
    "\n",
    "def saluta():\n",
    "\tprint(saluto)\n",
    "\n",
    "saluta()"
   ]
  },
  {
   "cell_type": "markdown",
   "metadata": {},
   "source": [
    "Tuttavia, **il valore di una variabile globale NON può essere modificato all'interno di una funzione**."
   ]
  },
  {
   "cell_type": "code",
   "execution_count": null,
   "metadata": {},
   "outputs": [],
   "source": [
    "numero = 4\n",
    "\n",
    "def stampa_doppio():\n",
    "    numero *= 2\n",
    "    print(numero)\n",
    "\n",
    "stampa_doppio()"
   ]
  },
  {
   "cell_type": "markdown",
   "metadata": {},
   "source": [
    "Questo errore può essere risolto usando la parola chiave `global` all'interno della funzione"
   ]
  },
  {
   "cell_type": "code",
   "execution_count": null,
   "metadata": {},
   "outputs": [],
   "source": [
    "numero = 4\n",
    "\n",
    "def stampa_doppio():\n",
    "    global numero \n",
    "    numero *= 2\n",
    "    print(numero)\n",
    "\n",
    "stampa_doppio()"
   ]
  },
  {
   "cell_type": "markdown",
   "metadata": {},
   "source": [
    "L'approccio migliore è di definire le variabili nell'ambito di visibilità più piccolo necessario.\n",
    "\n",
    "## Return di più valori\n",
    "A differenza degli altri linguaggi di programmazione, in Python è possibile restituire più valori."
   ]
  },
  {
   "cell_type": "code",
   "execution_count": null,
   "metadata": {},
   "outputs": [],
   "source": [
    "def primo_ultimo_carattere(cognome):\n",
    "\treturn cognome[0], cognome[-1]"
   ]
  },
  {
   "cell_type": "markdown",
   "metadata": {},
   "source": [
    "Quando la funzione viene chiamata, bisogna indicare i nomi delle variabili in cui saranno salvati i valori restituiti:"
   ]
  },
  {
   "cell_type": "code",
   "execution_count": null,
   "metadata": {},
   "outputs": [],
   "source": [
    "cognome = \"Pedroncelli\"\n",
    "primo, ultimo = primo_ultimo_carattere(cognome)"
   ]
  },
  {
   "cell_type": "markdown",
   "metadata": {},
   "source": [
    "## Funzioni lambda\n",
    "\n",
    "Le funzioni lambda sono funzioni **anonime** cioè senza nome. Si usano per creare funzioni da usare rapidamente. Sono utili soprattutto per definire funzioni che accettano altre funzioni come parametro.\n",
    "\n",
    "Consideriamo questa funzione:"
   ]
  },
  {
   "cell_type": "code",
   "execution_count": null,
   "metadata": {},
   "outputs": [],
   "source": [
    "def moltiplica(x, y):\n",
    "    return x * y"
   ]
  },
  {
   "cell_type": "markdown",
   "metadata": {},
   "source": [
    "che può essere riscritta come funzione lambda:"
   ]
  },
  {
   "cell_type": "code",
   "execution_count": null,
   "metadata": {},
   "outputs": [],
   "source": [
    "moltiplica = lambda x, y: x * y"
   ]
  },
  {
   "cell_type": "markdown",
   "metadata": {},
   "source": [
    "La chiamata è uguale alla chiamata di una funzione semplice"
   ]
  },
  {
   "cell_type": "code",
   "execution_count": null,
   "metadata": {},
   "outputs": [],
   "source": [
    "moltiplica(4, 7)"
   ]
  },
  {
   "cell_type": "markdown",
   "metadata": {},
   "source": [
    "La dichiarazione inizia con la parola chiave `lambda` che indica che si tratta di una funzione lambda.\n",
    "\n",
    "Dopo `lambda` scriviamo i parametri della funzione anonima separati da virgola e seguiti dai due punti. \n",
    "\n",
    "Alla fine si scrive ciò che viene restituito dalla funzione come se fosse un'istruzione `return`.\n",
    "\n",
    "Questa struttura è ideale per funzioni molto semplici ma non si può usare con funzioni complesse."
   ]
  },
  {
   "cell_type": "markdown",
   "metadata": {},
   "source": [
    "## Documentazione: docstring\n",
    "La documentazione va utilizzata per rendere il codice più facile da comprendere e utilizzare.\n",
    "\n",
    "Docstring è un commento che si utilizza all'interno di una funzione per spiegarne la funzionalità e l'utilizzo.\n",
    "\n",
    "Le Docstring sono circondate da triple virgolette. La prima riga spiega a che cosa serve la funzione. Successivamente, si spiegano nel dettaglio i parametri (indicando anche il tipo e gli eventuali vincoli) e i valori di output."
   ]
  },
  {
   "cell_type": "code",
   "execution_count": null,
   "metadata": {},
   "outputs": [],
   "source": [
    "def prodotto(a, b=1):\n",
    "\t\"\"\"\n",
    " \tCalcola il prodotto di due numeri utilizzando solo l'operatore somma.\n",
    "\tINPUT:\n",
    " \ta: int. Il primo operando (può essere anche negativo).\n",
    "\tb: int. Il secondo operando (può essere anche negativo). Valore di default = 1.\n",
    "\n",
    "  OUTPUT:\n",
    "\tprodotto: int. Il prodotto di a e b.\n",
    " \t\"\"\"\n",
    "\tsegno = 1\n",
    "\tif b < 0:\n",
    "\t\tsegno = -1\n",
    "\t\tb = b * (-1)\n",
    "\tprodotto = a\n",
    "\tfor i in range(b-1):\n",
    "\t\tprodotto += a\n",
    "\treturn prodotto"
   ]
  },
  {
   "cell_type": "markdown",
   "metadata": {},
   "source": [
    "### Esercizi"
   ]
  },
  {
   "cell_type": "code",
   "execution_count": 2,
   "metadata": {},
   "outputs": [
    {
     "name": "stdout",
     "output_type": "stream",
     "text": [
      "Densità popolazione: 50.0 p/m²\n"
     ]
    }
   ],
   "source": [
    "'''\n",
    "Scrivere una funzione chiamata densita_popolazione che accetta due parametri, popolazione e area, e restituisce la densità di popolazione calcolata a partire dai valori passati come parametro. \n",
    "Inoltre, chiamare la funzione assegnando alla variabile di nome densita il valore restituito dalla funzione e stampare una stringa contenente il valore della variabile densita\n",
    "\n",
    "'''\n",
    "\n",
    "# Soluzione con funzione classica\n",
    "\n",
    "\"\"\"\n",
    "def densita_popolazione(popolazione, area):\n",
    "    return popolazione / area\n",
    "\"\"\"\n",
    "\n",
    "# Soluzione con lambda function\n",
    "\n",
    "densita_popolazione = lambda popolazione, area: popolazione/area\n",
    "\n",
    "print(f\"Densità popolazione: {densita_popolazione(50000,1000)} p/m\\u00b2\") # \"\\u00b\" è il codice Unicode per mettere il 2 all'apice"
   ]
  },
  {
   "cell_type": "code",
   "execution_count": 8,
   "metadata": {},
   "outputs": [
    {
     "name": "stdout",
     "output_type": "stream",
     "text": [
      "100 giorni equivalgono a 2 settimane e 14 giorni.\n"
     ]
    }
   ],
   "source": [
    "'''\n",
    "Scrivere una funzione chiamata conversione_giorni che accetta un parametro chiamato giorni_totali (se il parametro non viene passato alla chiamata della funzione, \n",
    "la funzione lavorerà con giorni_totali = 100) e restituisce due valori cioè il numero di settimane e di giorni a cui corrisponde il valore del parametro.\n",
    "Esempio: se giorni_totali = 100, la funzione restituirà 14 (il numero di settimane) e 2 (il numero di giorni) perché 100 giorni equivalgono a 7 settimane e 2 giorni.\n",
    "La funzione deve essere completa di documentazione docstring.\n",
    "Inoltre, invocare la funzione assegnando i valori restituiti alle variabili chiamate settimane e giorni e stampare la stringa:\n",
    "\"[GIORNI_TOTALI] giorni equivalgono a [SETTIMANE] settimane e [GIORNI] giorni\".\n",
    "La stampa della stringa deve anche gestire correttamente il singolare e plurale delle parole giorno/giorni e settimana/settimane\n",
    "\n",
    "'''\n",
    "\n",
    "\n",
    "# Soluzione con funzione classica\n",
    "\n",
    "\n",
    "\"\"\"\n",
    "def conversione_giorni(giorni_totali = 100):\n",
    "    return giorni_totali % 7, giorni_totali // 7\n",
    "\n",
    "\"\"\"\n",
    "\n",
    "# Soluzione con lambda function\n",
    "\n",
    "conversione_giorni = lambda giorni_totali = 100: (giorni_totali % 7, giorni_totali // 7) \n",
    "# per restituire più di un valore con una lambda function siamo costretti a racchiuderli tra parentesi tonde (maggiori dettagli tra due lezioni)\n",
    "\n",
    "giorni_totali = 100\n",
    "\n",
    "settimane, giorni = conversione_giorni(giorni_totali)\n",
    "\n",
    "print(f\"{giorni_totali} giorni equivalgono a {settimane} settimane e {giorni} giorni.\")"
   ]
  }
 ],
 "metadata": {
  "kernelspec": {
   "display_name": "Python 3 (ipykernel)",
   "language": "python",
   "name": "python3"
  },
  "language_info": {
   "codemirror_mode": {
    "name": "ipython",
    "version": 3
   },
   "file_extension": ".py",
   "mimetype": "text/x-python",
   "name": "python",
   "nbconvert_exporter": "python",
   "pygments_lexer": "ipython3",
   "version": "3.11.2"
  }
 },
 "nbformat": 4,
 "nbformat_minor": 4
}
